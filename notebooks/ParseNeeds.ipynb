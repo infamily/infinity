{
 "cells": [
  {
   "cell_type": "markdown",
   "metadata": {},
   "source": [
    "# About Needs\n",
    "\n",
    "On Infinity, the Needs represent the conditions for goals. However, being that we are formulating the system for society define its needs at scale, we have to treat society's institutions as the systems that are efficient at satisfying needs. Thus, if we apply the `yml` syntax, commonly software infrastructure defining, the infinity script that could be included within a Goal (`Topic.type=1`), could look like this:\n",
    "\n",
    "\n",
    "```inf\n",
    "- target: agents:construction_companies_N101\n",
    "  needs:\n",
    "  - name: ensure the companies have the level P110 permissions to build in the open sea\n",
    "    united_nations: permission=P110 state=present\n",
    "- target: places:construction_companies_N101\n",
    "  - name: ensure the companies have high grade concrete type X123\n",
    "    scoutbee_gmbh: cement=X123 state=present\n",
    "```\n",
    "\n",
    "Note, that, just like at the level of Ansible, we use package managers as our tools to satisfy conditions, here we use the actual institutions or companies as tools that are adept at the specific areas to require to satisfy them.\n"
   ]
  },
  {
   "cell_type": "code",
   "execution_count": 157,
   "metadata": {},
   "outputs": [
    {
     "data": {
      "text/plain": [
       "[{'name': 'ensure the companies have the level P110 permissions to build in the open sea',\n",
       "  'target': 'agents:construction_companies_N101',\n",
       "  'tool': {'united_nations': 'permission=P110 state=present'}},\n",
       " {'name': 'something new',\n",
       "  'target': 'agents:construction_companies_N101',\n",
       "  'tool': {'world_trade_organization': 'some=XXX state=present'}},\n",
       " {'name': 'ensure the companies have high grade concrete type X123',\n",
       "  'target': 'places:construction_companies_N101',\n",
       "  'tool': {'scoutbee_gmbh': 'cement=X123 state=present'}},\n",
       " {'name': 'ensure universal basic income to all',\n",
       "  'target': 'agents:humans',\n",
       "  'tool': {'world_economic_sustainability_organization': 'ubi=x001 state=present'}}]"
      ]
     },
     "execution_count": 157,
     "metadata": {},
     "output_type": "execute_result"
    }
   ],
   "source": [
    "import mistune\n",
    "import bs4\n",
    "import yaml\n",
    "\n",
    "targets = bs4.BeautifulSoup(\n",
    "    mistune.markdown(\n",
    "        '''\n",
    "```inf\n",
    "- target: agents:construction_companies_N101\n",
    "  needs:\n",
    "  - name: ensure the companies have the level P110 permissions to build in the open sea\n",
    "    united_nations: permission=P110 state=present\n",
    "  - name: something new\n",
    "    world_trade_organization: some=XXX state=present\n",
    "- target: places:construction_companies_N101\n",
    "  needs:\n",
    "  - name: ensure the companies have high grade concrete type X123\n",
    "    scoutbee_gmbh: cement=X123 state=present\n",
    "- target: agents:humans\n",
    "  needs:\n",
    "  - name: ensure universal basic income to all\n",
    "    world_economic_sustainability_organization: ubi=x001 state=present\n",
    "```\n",
    "        '''\n",
    "    ),\n",
    "    'html.parser'\n",
    ").find_all('code', {'class': 'lang-inf'})\n",
    "\n",
    "conditions = []\n",
    "\n",
    "get_slice = lambda _, excluding: {\n",
    "    key: _[key] for key in [key for key in _.keys() if key not in excluding]}\n",
    "\n",
    "for target in targets: \n",
    "    for block in yaml.load(target.text):\n",
    "        if 'needs' in block.keys():\n",
    "            items = block.get('needs')\n",
    "            if 'target' in block.keys():\n",
    "                for i, _ in enumerate(items):\n",
    "                    items[i].update(\n",
    "                        {'target': block['target']}\n",
    "                    )\n",
    "                    tools = get_slice(items[i], excluding=['name', 'target'])\n",
    "                    items[i].update(\n",
    "                        {'tool': tools}\n",
    "                    )\n",
    "                    for key, tool in enumerate(tools):\n",
    "                        del items[i][tool]\n",
    "            conditions.extend( items )\n",
    "conditions"
   ]
  },
  {
   "cell_type": "markdown",
   "metadata": {},
   "source": [
    "This produces the list of needs, that are to be linked, or updated based on uniqueness of  `title=name`, by creating needs, like so:"
   ]
  },
  {
   "cell_type": "code",
   "execution_count": 158,
   "metadata": {},
   "outputs": [
    {
     "data": {
      "text/plain": [
       "4"
      ]
     },
     "execution_count": 158,
     "metadata": {},
     "output_type": "execute_result"
    }
   ],
   "source": [
    "len(conditions)"
   ]
  },
  {
   "cell_type": "code",
   "execution_count": 80,
   "metadata": {},
   "outputs": [
    {
     "data": {
      "text/plain": [
       "<Topic: [Goal] .:en:Reduce risk regarding subjective head internal pressure>"
      ]
     },
     "execution_count": 80,
     "metadata": {},
     "output_type": "execute_result"
    }
   ],
   "source": [
    "current_topic"
   ]
  },
  {
   "cell_type": "code",
   "execution_count": 86,
   "metadata": {},
   "outputs": [
    {
     "data": {
      "text/plain": [
       "<Topic: [Task] .:so:abc>"
      ]
     },
     "execution_count": 86,
     "metadata": {},
     "output_type": "execute_result"
    }
   ],
   "source": [
    "Topic.objects.create(\n",
    "    title='abc',\n",
    "    body='hello',\n",
    "    owner=current_topic.owner\n",
    ")"
   ]
  },
  {
   "cell_type": "code",
   "execution_count": 95,
   "metadata": {},
   "outputs": [],
   "source": [
    "t = Topic.objects.get(title='.:so:abc')"
   ]
  },
  {
   "cell_type": "code",
   "execution_count": 97,
   "metadata": {},
   "outputs": [],
   "source": [
    "current_topic.parents.add(t)"
   ]
  },
  {
   "cell_type": "code",
   "execution_count": 100,
   "metadata": {},
   "outputs": [
    {
     "data": {
      "text/plain": [
       "True"
      ]
     },
     "execution_count": 100,
     "metadata": {},
     "output_type": "execute_result"
    }
   ],
   "source": [
    "t.title == '.:so:abc'"
   ]
  },
  {
   "cell_type": "code",
   "execution_count": 107,
   "metadata": {},
   "outputs": [
    {
     "data": {
      "text/plain": [
       "True"
      ]
     },
     "execution_count": 107,
     "metadata": {},
     "output_type": "execute_result"
    }
   ],
   "source": [
    "current_topic.parents.filter(title='.:so:abc').exists()"
   ]
  },
  {
   "cell_type": "code",
   "execution_count": 83,
   "metadata": {},
   "outputs": [],
   "source": [
    "title='.:en:{}'.format(conditions[0]['name'])"
   ]
  },
  {
   "cell_type": "code",
   "execution_count": 84,
   "metadata": {},
   "outputs": [
    {
     "data": {
      "text/plain": [
       "'.:en:ensure the companies have the level P110 permissions to build in the open sea'"
      ]
     },
     "execution_count": 84,
     "metadata": {},
     "output_type": "execute_result"
    }
   ],
   "source": [
    "title"
   ]
  },
  {
   "cell_type": "code",
   "execution_count": 155,
   "metadata": {},
   "outputs": [],
   "source": [
    "from src.core.models import Topic\n",
    "\n",
    "current_topic = Topic.objects.get(title='.:en:Reduce risk regarding subjective head internal pressure')\n",
    "lang = 'en'\n",
    "\n",
    "for condition in conditions:\n",
    "    \n",
    "    title='.:{}:{}'.format(lang, condition['name'])\n",
    "    body = '.:{}\\n{}'.format(lang, yaml.dump(condition, default_flow_style=False))\n",
    "    \n",
    "    if not current_topic.parent_topics.filter(title=title).exists():\n",
    "        topic = Topic.objects.create(\n",
    "            title=title,\n",
    "            body=body,\n",
    "            owner=current_topic.owner,\n",
    "            type=0\n",
    "        )\n",
    "        current_topic.parent_topics.add(topic)\n",
    "        current_topic.save()\n",
    "    else:\n",
    "        \n",
    "        topic = current_topic.parent_topics.filter(title=title).first()\n",
    "        topic.body = body\n",
    "        topic.save()\n",
    "\n",
    "for need in current_topic.parent_topics.filter(type=0):\n",
    "    if need.title not in ['.:{}:{}'.format(lang, d['name']) for d in conditions]:\n",
    "        need.delete()"
   ]
  },
  {
   "cell_type": "code",
   "execution_count": 156,
   "metadata": {},
   "outputs": [
    {
     "name": "stdout",
     "output_type": "stream",
     "text": [
      "[Need] .:en:something new\n",
      "[Need] .:en:ensure universal basic income to all\n",
      "[Need] .:en:ensure the companies have high grade concrete type X123\n",
      "[Need] .:en:ensure the companies have the level P110 permissions to build in the open sea\n",
      "[Idea] .:en:Maybe do MRI scan to see if there are any problems with blood passage\n",
      "[Idea] .:en:Maybe do intracranial pressure measurement\n"
     ]
    }
   ],
   "source": [
    "for parent in current_topic.parent_topics.all():\n",
    "    print(parent)"
   ]
  },
  {
   "cell_type": "code",
   "execution_count": 159,
   "metadata": {},
   "outputs": [
    {
     "data": {
      "text/plain": [
       "6"
      ]
     },
     "execution_count": 159,
     "metadata": {},
     "output_type": "execute_result"
    }
   ],
   "source": [
    "current_topic.parent_topics.count()"
   ]
  },
  {
   "cell_type": "code",
   "execution_count": null,
   "metadata": {},
   "outputs": [],
   "source": []
  }
 ],
 "metadata": {
  "kernelspec": {
   "display_name": "Python 3",
   "language": "python",
   "name": "python3"
  },
  "language_info": {
   "codemirror_mode": {
    "name": "ipython",
    "version": 3
   },
   "file_extension": ".py",
   "mimetype": "text/x-python",
   "name": "python",
   "nbconvert_exporter": "python",
   "pygments_lexer": "ipython3",
   "version": "3.5.5"
  }
 },
 "nbformat": 4,
 "nbformat_minor": 2
}
